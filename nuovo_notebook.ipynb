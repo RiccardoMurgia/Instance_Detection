{
 "cells": [
  {
   "cell_type": "code",
   "execution_count": 46,
   "metadata": {},
   "outputs": [],
   "source": [
    "# img1 o model o query\n",
    "# img2 o scena"
   ]
  },
  {
   "cell_type": "code",
   "execution_count": 47,
   "metadata": {},
   "outputs": [],
   "source": [
    "import os\n",
    "import cv2\n",
    "import matplotlib.pyplot as plt\n",
    "import numpy as np\n",
    "from tqdm import tqdm"
   ]
  },
  {
   "cell_type": "code",
   "execution_count": 48,
   "metadata": {},
   "outputs": [],
   "source": [
    "MEDIAN_K_SIZE = 3\n",
    "MEDIAN2_K_SIZE = 3\n",
    "\n",
    "FLANN_INDEX_KDTREE = 1\n",
    "MIN_MATCH_COUNT = 0 #10\n"
   ]
  },
  {
   "cell_type": "code",
   "execution_count": 49,
   "metadata": {},
   "outputs": [],
   "source": [
    "def png_to_numpy(path, list):\n",
    "    for image_name in os.listdir(path):\n",
    "        image_path = os.path.join(path, image_name)\n",
    "        image = cv2.imread(image_path)\n",
    "        list.append(image)\n"
   ]
  },
  {
   "cell_type": "code",
   "execution_count": 50,
   "metadata": {},
   "outputs": [
    {
     "name": "stdout",
     "output_type": "stream",
     "text": [
      "12 models and 7 scenes for multiple instances detection task\n"
     ]
    }
   ],
   "source": [
    "MODELS_MULTIPLE_INSTANCES_PATH = \"models_multiple_instances\"\n",
    "SCENES_MULTIPLE_INSTANCES_PATH = \"scenes_multiple_instances\"\n",
    "\n",
    "models_multiple_instances = []\n",
    "scenes_multiple_instances = []\n",
    "\n",
    "png_to_numpy(MODELS_MULTIPLE_INSTANCES_PATH, models_multiple_instances)\n",
    "png_to_numpy(SCENES_MULTIPLE_INSTANCES_PATH, scenes_multiple_instances)\n",
    "\n",
    "print(f\"{len(models_multiple_instances)} models and {len(scenes_multiple_instances)} scenes for multiple instances detection task\")\n",
    "\n",
    "multi_instance_real_matchings = {0: [(6, 2), (7, 2)],\n",
    "                                 1: [(2, 2), (8, 2), (9, 3)], \n",
    "                                 2: [(10, 2), (11, 2), (3, 2)], \n",
    "                                 3: [(0, 2)], \n",
    "                                 4: [(1, 2)], \n",
    "                                 5: [(2, 2), (8, 1)],\n",
    "                                 6: [(3, 2), (4, 2), (5, 2)]}"
   ]
  },
  {
   "cell_type": "code",
   "execution_count": 51,
   "metadata": {},
   "outputs": [],
   "source": [
    "def denoise_image(image):\n",
    "    denoised_image = cv2.medianBlur(image, MEDIAN_K_SIZE)\n",
    "    denoised_image = cv2.medianBlur(denoised_image, MEDIAN2_K_SIZE)\n",
    "    denoised_image = cv2.bilateralFilter(denoised_image, d=19, sigmaColor=50, sigmaSpace=250)\n",
    "    denoised_image = cv2.bilateralFilter(denoised_image, d=19, sigmaColor=20, sigmaSpace=120)\n",
    "    return denoised_image\n",
    "\n",
    "def get_good_matches(des_model, des_scene, ratio_thresh = 0.7):\n",
    "    #-- Step 1: Matching descriptor vectors with a FLANN based matcher\n",
    "    matcher = cv2.DescriptorMatcher_create(cv2.DescriptorMatcher_FLANNBASED)\n",
    "    knn_matches = matcher.knnMatch(des_model, des_scene, k=2)\n",
    "    \n",
    "    #-- Step2: Filter matches using the Lowe's ratio test\n",
    "    good_matches = []\n",
    "    for m,n in knn_matches:\n",
    "        if m.distance < ratio_thresh * n.distance:\n",
    "            good_matches.append(m)\n",
    "\n",
    "    return good_matches"
   ]
  },
  {
   "cell_type": "markdown",
   "metadata": {},
   "source": [
    "### Zero Mean Normalized Cross-Correlation"
   ]
  },
  {
   "cell_type": "code",
   "execution_count": 52,
   "metadata": {},
   "outputs": [],
   "source": [
    "def getAverage(img, u, v, n):\n",
    "    \"\"\"img as a square matrix of numbers\"\"\"\n",
    "    s = 0\n",
    "    for i in range(-n, n + 1):\n",
    "        for j in range(-n, n + 1):\n",
    "            s += img[u + i][v + j]\n",
    "    return float(s) / (2 * n + 1) ** 2\n",
    "\n",
    "\n",
    "def getStandardDeviation(img, u, v, n):\n",
    "    s = 0\n",
    "    avg = getAverage(img, u, v, n)\n",
    "    for i in range(-n, n + 1):\n",
    "        for j in range(-n, n + 1):\n",
    "            s += (img[u + i][v + j] - avg) ** 2\n",
    "    return (s ** 0.5) / (2 * n + 1)\n",
    "\n",
    "\n",
    "def zncc(img1, img2, u1, v1, u2, v2, n):\n",
    "    stdDeviation1 = getStandardDeviation(img1, u1, v1, n)\n",
    "    stdDeviation2 = getStandardDeviation(img2, u2, v2, n)\n",
    "    avg1 = getAverage(img1, u1, v1, n)\n",
    "    avg2 = getAverage(img2, u2, v2, n)\n",
    "\n",
    "    s = 0\n",
    "    for i in range(-n, n + 1):\n",
    "        for j in range(-n, n + 1):\n",
    "            s += (img1[u1 + i][v1 + j] - avg1) * (img2[u2 + i][v2 + j] - avg2)\n",
    "    return float(s) / ((2 * n + 1) ** 2 * stdDeviation1 * stdDeviation2)\n",
    "\n",
    "\n",
    "def zncc_jimmy(patch1, patch2):\n",
    "    # Subtract the mean from each patch (Zero mean)\n",
    "    patch1_mean = patch1 - np.mean(patch1)\n",
    "    patch2_mean = patch2 - np.mean(patch2)\n",
    "\n",
    "    # Compute the numerator: sum of element-wise products of the zero-mean patches\n",
    "    numerator = np.sum(patch1_mean * patch2_mean)\n",
    "\n",
    "    # Compute the denominator: product of the standard deviations\n",
    "    denominator = np.sqrt(np.sum(patch1_mean ** 2) * np.sum(patch2_mean ** 2))\n",
    "\n",
    "    # Avoid division by zero\n",
    "    if denominator == 0:\n",
    "        return -1  # Return -1 if denominator is 0\n",
    "\n",
    "    return numerator / denominator"
   ]
  },
  {
   "cell_type": "code",
   "execution_count": 53,
   "metadata": {},
   "outputs": [],
   "source": [
    "def multi_object_retrieve(model, scene, config):\n",
    "\n",
    "    #gray_model= cv2.cvtColor(model, cv2.COLOR_BGR2GRAY)\n",
    "    #gray_scene= cv2.cvtColor(scene, cv2.COLOR_BGR2GRAY)\n",
    "\n",
    "    #-- Step 1: Detect the keypoints using SIFT Detector, compute the descriptors\n",
    "    sift = cv2.SIFT_create()\n",
    "\n",
    "    kp_model, des_model = sift.detectAndCompute(model,None)\n",
    "    kp_scene, des_scene = sift.detectAndCompute(scene,None)\n",
    "\n",
    "    #img_model = cv.drawKeypoints(gray_model, kp_model, model)\n",
    "    #cv.imwrite('sift_keypoints.jpg', img_model)\n",
    "\n",
    "    good_matches = get_good_matches(des_model, des_scene, ratio_thresh = 0.85)\n",
    "\n",
    "    # Verify matches meet MIN_MATCH_COUNT; if yes, find keypoint coordinates, compute the perspective transform, and draw the object.\n",
    "    if len(good_matches) > MIN_MATCH_COUNT:\n",
    "        src_pts = np.float32([ kp_model[m.queryIdx].pt for m in good_matches ]).reshape(-1,1,2)\n",
    "        dst_pts = np.float32([ kp_scene[m.trainIdx].pt for m in good_matches ]).reshape(-1,1,2)\n",
    "\n",
    "        print(\"LUNGHEZZA src_pts: \", len(src_pts) )\n",
    "        \n",
    "        #Iterate when you have at least 4 points to calculate homography\n",
    "        while len(src_pts) >=4: \n",
    "\n",
    "            M, mask = cv2.findHomography(src_pts, dst_pts, cv2.RANSAC, 5.0)\n",
    "\n",
    "            h,w = model.shape[:2]\n",
    "            pts = np.float32([ [0,0],[0,h-1],[w-1,h-1],[w-1,0] ]).reshape(-1,1,2)\n",
    "\n",
    "            # dst è un array NumPy di coordinate che rappresentano i vertici trasformati dell'immagine di query / model\n",
    "            dst = cv2.perspectiveTransform(pts, M)\n",
    "\n",
    "            # Estrai i punti della scene usando il bounding box\n",
    "            x, y, boxWidth, boxHeight = cv2.boundingRect(dst) # Restituisce (x, y, w, h) del rettangolo di delimitazione\n",
    "            \n",
    "            model_warp = cv2.warpPerspective(model, M, (boxWidth, boxHeight), flags=cv2.INTER_LINEAR)\n",
    "\n",
    "            scene_cropped = scene[y : y+boxHeight, x:x+boxWidth]\n",
    "\n",
    "            print(\"model_warp SHAPE: \", model_warp.shape)\n",
    "            print(\"scene_cropped SHAPE: \", scene_cropped.shape)\n",
    " \n",
    "            zncc_score = zncc_jimmy(model_warp, scene_cropped)\n",
    "\n",
    "            print(\"Zorro NCC: \", zncc_score)\n",
    "\n",
    "            img2_rgb = cv2.cvtColor(model_warp, cv2.COLOR_BGR2RGB)\n",
    "            plt.figure(figsize=(10, 8))\n",
    "            plt.imshow(img2_rgb)\n",
    "            plt.title(\"Model Warpato\")\n",
    "            plt.axis(\"off\")\n",
    "            plt.show()\n",
    "\n",
    "            img2_rgb = cv2.cvtColor(scene_cropped, cv2.COLOR_BGR2RGB)\n",
    "            plt.figure(figsize=(10, 8))\n",
    "            plt.imshow(img2_rgb)\n",
    "            plt.title(\"Scena croppata\")\n",
    "            plt.axis(\"off\")\n",
    "            plt.show()\n",
    "\n",
    "            break\n",
    "            \n",
    "    else:\n",
    "        print( \"Not enough matches are found - {}/{}\".format(len(good_matches), MIN_MATCH_COUNT) )\n",
    "\n",
    "    \n"
   ]
  },
  {
   "cell_type": "code",
   "execution_count": 54,
   "metadata": {},
   "outputs": [
    {
     "name": "stdout",
     "output_type": "stream",
     "text": [
      "LUNGHEZZA src_pts:  34\n",
      "model_warp SHAPE:  (1, 1, 3)\n",
      "scene_cropped SHAPE:  (1, 1, 3)\n",
      "Zorro NCC:  0.6043700431852037\n"
     ]
    },
    {
     "data": {
      "image/png": "[encoded data removed]",
      "text/plain": [
       "<Figure size 1000x800 with 1 Axes>"
      ]
     },
     "metadata": {},
     "output_type": "display_data"
    },
    {
     "data": {
      "image/png": "[encoded data removed]",
      "text/plain": [
       "<Figure size 1000x800 with 1 Axes>"
      ]
     },
     "metadata": {},
     "output_type": "display_data"
    }
   ],
   "source": [
    "model_idx = 11   # 3, 8, 3, 0, 11, 8\n",
    "scene_idx = 2    # 6, 5, 2, 3, 5, 1\n",
    " \n",
    "model = models_multiple_instances[model_idx]\n",
    "scene = scenes_multiple_instances[scene_idx]\n",
    "\n",
    "multi_object_retrieve(model, scene, [])\n"
   ]
  }
 ],
 "metadata": {
  "kernelspec": {
   "display_name": "ipcv_project_env",
   "language": "python",
   "name": "python3"
  },
  "language_info": {
   "codemirror_mode": {
    "name": "ipython",
    "version": 3
   },
   "file_extension": ".py",
   "mimetype": "text/x-python",
   "name": "python",
   "nbconvert_exporter": "python",
   "pygments_lexer": "ipython3",
   "version": "3.10.15"
  }
 },
 "nbformat": 4,
 "nbformat_minor": 2
}
